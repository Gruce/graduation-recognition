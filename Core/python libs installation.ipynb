{
 "cells": [
  {
   "cell_type": "code",
   "execution_count": 5,
   "metadata": {},
   "outputs": [
    {
     "name": "stderr",
     "output_type": "stream",
     "text": [
      "WARNING: Ignoring invalid distribution -ywin32 (c:\\users\\hassan k. alkhalidi\\appdata\\local\\programs\\python\\python39\\lib\\site-packages)\n",
      "WARNING: Ignoring invalid distribution -ywin32 (c:\\users\\hassan k. alkhalidi\\appdata\\local\\programs\\python\\python39\\lib\\site-packages)\n",
      "ERROR: Could not find a version that satisfies the requirement json (from versions: none)\n",
      "ERROR: No matching distribution found for json\n",
      "WARNING: Ignoring invalid distribution -ywin32 (c:\\users\\hassan k. alkhalidi\\appdata\\local\\programs\\python\\python39\\lib\\site-packages)\n",
      "WARNING: Ignoring invalid distribution -ywin32 (c:\\users\\hassan k. alkhalidi\\appdata\\local\\programs\\python\\python39\\lib\\site-packages)\n",
      "WARNING: Ignoring invalid distribution -ywin32 (c:\\users\\hassan k. alkhalidi\\appdata\\local\\programs\\python\\python39\\lib\\site-packages)\n",
      "WARNING: Ignoring invalid distribution -ywin32 (c:\\users\\hassan k. alkhalidi\\appdata\\local\\programs\\python\\python39\\lib\\site-packages)\n",
      "ERROR: Could not find a version that satisfies the requirement os (from versions: none)\n",
      "ERROR: No matching distribution found for os\n",
      "WARNING: Ignoring invalid distribution -ywin32 (c:\\users\\hassan k. alkhalidi\\appdata\\local\\programs\\python\\python39\\lib\\site-packages)\n",
      "WARNING: Ignoring invalid distribution -ywin32 (c:\\users\\hassan k. alkhalidi\\appdata\\local\\programs\\python\\python39\\lib\\site-packages)\n"
     ]
    },
    {
     "name": "stdout",
     "output_type": "stream",
     "text": [
      "Requirement already satisfied: requests in c:\\users\\hassan k. alkhalidi\\appdata\\local\\programs\\python\\python39\\lib\\site-packages (2.26.0)\n",
      "Requirement already satisfied: urllib3<1.27,>=1.21.1 in c:\\users\\hassan k. alkhalidi\\appdata\\local\\programs\\python\\python39\\lib\\site-packages (from requests) (1.26.7)\n",
      "Requirement already satisfied: certifi>=2017.4.17 in c:\\users\\hassan k. alkhalidi\\appdata\\local\\programs\\python\\python39\\lib\\site-packages (from requests) (2021.10.8)\n",
      "Requirement already satisfied: idna<4,>=2.5 in c:\\users\\hassan k. alkhalidi\\appdata\\local\\programs\\python\\python39\\lib\\site-packages (from requests) (3.3)\n",
      "Requirement already satisfied: charset-normalizer~=2.0.0 in c:\\users\\hassan k. alkhalidi\\appdata\\local\\programs\\python\\python39\\lib\\site-packages (from requests) (2.0.7)\n"
     ]
    },
    {
     "name": "stderr",
     "output_type": "stream",
     "text": [
      "WARNING: Ignoring invalid distribution -ywin32 (c:\\users\\hassan k. alkhalidi\\appdata\\local\\programs\\python\\python39\\lib\\site-packages)\n",
      "WARNING: Ignoring invalid distribution -ywin32 (c:\\users\\hassan k. alkhalidi\\appdata\\local\\programs\\python\\python39\\lib\\site-packages)\n",
      "WARNING: Ignoring invalid distribution -ywin32 (c:\\users\\hassan k. alkhalidi\\appdata\\local\\programs\\python\\python39\\lib\\site-packages)\n",
      "WARNING: Ignoring invalid distribution -ywin32 (c:\\users\\hassan k. alkhalidi\\appdata\\local\\programs\\python\\python39\\lib\\site-packages)\n",
      "WARNING: Ignoring invalid distribution -ywin32 (c:\\users\\hassan k. alkhalidi\\appdata\\local\\programs\\python\\python39\\lib\\site-packages)\n",
      "WARNING: Ignoring invalid distribution -ywin32 (c:\\users\\hassan k. alkhalidi\\appdata\\local\\programs\\python\\python39\\lib\\site-packages)\n",
      "WARNING: Ignoring invalid distribution -ywin32 (c:\\users\\hassan k. alkhalidi\\appdata\\local\\programs\\python\\python39\\lib\\site-packages)\n",
      "ERROR: Could not find a version that satisfies the requirement cv2 (from versions: none)\n",
      "ERROR: No matching distribution found for cv2\n",
      "WARNING: Ignoring invalid distribution -ywin32 (c:\\users\\hassan k. alkhalidi\\appdata\\local\\programs\\python\\python39\\lib\\site-packages)\n",
      "WARNING: Ignoring invalid distribution -ywin32 (c:\\users\\hassan k. alkhalidi\\appdata\\local\\programs\\python\\python39\\lib\\site-packages)\n"
     ]
    },
    {
     "name": "stdout",
     "output_type": "stream",
     "text": [
      "Requirement already satisfied: numpy in c:\\users\\hassan k. alkhalidi\\appdata\\local\\programs\\python\\python39\\lib\\site-packages (1.21.4)\n"
     ]
    },
    {
     "name": "stderr",
     "output_type": "stream",
     "text": [
      "WARNING: Ignoring invalid distribution -ywin32 (c:\\users\\hassan k. alkhalidi\\appdata\\local\\programs\\python\\python39\\lib\\site-packages)\n",
      "WARNING: Ignoring invalid distribution -ywin32 (c:\\users\\hassan k. alkhalidi\\appdata\\local\\programs\\python\\python39\\lib\\site-packages)\n",
      "WARNING: Ignoring invalid distribution -ywin32 (c:\\users\\hassan k. alkhalidi\\appdata\\local\\programs\\python\\python39\\lib\\site-packages)\n",
      "WARNING: Ignoring invalid distribution -ywin32 (c:\\users\\hassan k. alkhalidi\\appdata\\local\\programs\\python\\python39\\lib\\site-packages)\n",
      "WARNING: Ignoring invalid distribution -ywin32 (c:\\users\\hassan k. alkhalidi\\appdata\\local\\programs\\python\\python39\\lib\\site-packages)\n"
     ]
    },
    {
     "name": "stdout",
     "output_type": "stream",
     "text": [
      "Requirement already satisfied: customtkinter in c:\\users\\hassan k. alkhalidi\\appdata\\local\\programs\\python\\python39\\lib\\site-packages (1.4)"
     ]
    },
    {
     "name": "stderr",
     "output_type": "stream",
     "text": [
      "WARNING: Ignoring invalid distribution -ywin32 (c:\\users\\hassan k. alkhalidi\\appdata\\local\\programs\\python\\python39\\lib\\site-packages)\n",
      "WARNING: Ignoring invalid distribution -ywin32 (c:\\users\\hassan k. alkhalidi\\appdata\\local\\programs\\python\\python39\\lib\\site-packages)\n",
      "WARNING: Ignoring invalid distribution -ywin32 (c:\\users\\hassan k. alkhalidi\\appdata\\local\\programs\\python\\python39\\lib\\site-packages)\n",
      "WARNING: Ignoring invalid distribution -ywin32 (c:\\users\\hassan k. alkhalidi\\appdata\\local\\programs\\python\\python39\\lib\\site-packages)\n",
      "WARNING: Ignoring invalid distribution -ywin32 (c:\\users\\hassan k. alkhalidi\\appdata\\local\\programs\\python\\python39\\lib\\site-packages)\n"
     ]
    },
    {
     "name": "stdout",
     "output_type": "stream",
     "text": [
      "\n",
      "Requirement already satisfied: darkdetect in c:\\users\\hassan k. alkhalidi\\appdata\\local\\programs\\python\\python39\\lib\\site-packages (from customtkinter) (0.5.1)\n",
      "Requirement already satisfied: imutils in c:\\users\\hassan k. alkhalidi\\appdata\\local\\programs\\python\\python39\\lib\\site-packages (0.5.4)\n"
     ]
    },
    {
     "name": "stderr",
     "output_type": "stream",
     "text": [
      "WARNING: Ignoring invalid distribution -ywin32 (c:\\users\\hassan k. alkhalidi\\appdata\\local\\programs\\python\\python39\\lib\\site-packages)\n",
      "WARNING: Ignoring invalid distribution -ywin32 (c:\\users\\hassan k. alkhalidi\\appdata\\local\\programs\\python\\python39\\lib\\site-packages)\n",
      "WARNING: Ignoring invalid distribution -ywin32 (c:\\users\\hassan k. alkhalidi\\appdata\\local\\programs\\python\\python39\\lib\\site-packages)\n",
      "WARNING: Ignoring invalid distribution -ywin32 (c:\\users\\hassan k. alkhalidi\\appdata\\local\\programs\\python\\python39\\lib\\site-packages)\n",
      "WARNING: Ignoring invalid distribution -ywin32 (c:\\users\\hassan k. alkhalidi\\appdata\\local\\programs\\python\\python39\\lib\\site-packages)\n"
     ]
    },
    {
     "name": "stdout",
     "output_type": "stream",
     "text": [
      "Collecting pathlib\n",
      "  Downloading pathlib-1.0.1.tar.gz (49 kB)\n",
      "  Preparing metadata (setup.py): started\n",
      "  Preparing metadata (setup.py): finished with status 'done'\n",
      "Building wheels for collected packages: pathlib\n",
      "  Building wheel for pathlib (setup.py): started\n",
      "  Building wheel for pathlib (setup.py): finished with status 'done'\n",
      "  Created wheel for pathlib: filename=pathlib-1.0.1-py3-none-any.whl size=14363 sha256=219a2f739322a5f9ed827aebd4ce2b27557232a31b0890ca8958a5c74d2e9075\n",
      "  Stored in directory: c:\\users\\hassan k. alkhalidi\\appdata\\local\\pip\\cache\\wheels\\58\\e4\\79\\b72447132cbb865fd652d37c85cc4e0caba75da59bc3a0ee50\n",
      "Successfully built pathlib\n",
      "Installing collected packages: pathlib\n",
      "Successfully installed pathlib-1.0.1\n"
     ]
    },
    {
     "name": "stderr",
     "output_type": "stream",
     "text": [
      "WARNING: Ignoring invalid distribution -ywin32 (c:\\users\\hassan k. alkhalidi\\appdata\\local\\programs\\python\\python39\\lib\\site-packages)\n",
      "WARNING: Ignoring invalid distribution -ywin32 (c:\\users\\hassan k. alkhalidi\\appdata\\local\\programs\\python\\python39\\lib\\site-packages)\n",
      "WARNING: Ignoring invalid distribution -ywin32 (c:\\users\\hassan k. alkhalidi\\appdata\\local\\programs\\python\\python39\\lib\\site-packages)\n",
      "WARNING: Ignoring invalid distribution -ywin32 (c:\\users\\hassan k. alkhalidi\\appdata\\local\\programs\\python\\python39\\lib\\site-packages)\n",
      "WARNING: Ignoring invalid distribution -ywin32 (c:\\users\\hassan k. alkhalidi\\appdata\\local\\programs\\python\\python39\\lib\\site-packages)\n",
      "WARNING: Ignoring invalid distribution -ywin32 (c:\\users\\hassan k. alkhalidi\\appdata\\local\\programs\\python\\python39\\lib\\site-packages)\n",
      "WARNING: Ignoring invalid distribution -ywin32 (c:\\users\\hassan k. alkhalidi\\appdata\\local\\programs\\python\\python39\\lib\\site-packages)\n",
      "WARNING: Ignoring invalid distribution -ywin32 (c:\\users\\hassan k. alkhalidi\\appdata\\local\\programs\\python\\python39\\lib\\site-packages)\n",
      "ERROR: Could not find a version that satisfies the requirement threading (from versions: none)\n",
      "ERROR: No matching distribution found for threading\n",
      "WARNING: Ignoring invalid distribution -ywin32 (c:\\users\\hassan k. alkhalidi\\appdata\\local\\programs\\python\\python39\\lib\\site-packages)\n",
      "WARNING: Ignoring invalid distribution -ywin32 (c:\\users\\hassan k. alkhalidi\\appdata\\local\\programs\\python\\python39\\lib\\site-packages)\n",
      "WARNING: Ignoring invalid distribution -ywin32 (c:\\users\\hassan k. alkhalidi\\appdata\\local\\programs\\python\\python39\\lib\\site-packages)\n",
      "WARNING: Ignoring invalid distribution -ywin32 (c:\\users\\hassan k. alkhalidi\\appdata\\local\\programs\\python\\python39\\lib\\site-packages)\n",
      "ERROR: Could not find a version that satisfies the requirement pickle (from versions: none)\n",
      "ERROR: No matching distribution found for pickle\n",
      "WARNING: Ignoring invalid distribution -ywin32 (c:\\users\\hassan k. alkhalidi\\appdata\\local\\programs\\python\\python39\\lib\\site-packages)\n",
      "WARNING: Ignoring invalid distribution -ywin32 (c:\\users\\hassan k. alkhalidi\\appdata\\local\\programs\\python\\python39\\lib\\site-packages)\n",
      "WARNING: Ignoring invalid distribution -ywin32 (c:\\users\\hassan k. alkhalidi\\appdata\\local\\programs\\python\\python39\\lib\\site-packages)\n",
      "WARNING: Ignoring invalid distribution -ywin32 (c:\\users\\hassan k. alkhalidi\\appdata\\local\\programs\\python\\python39\\lib\\site-packages)\n",
      "ERROR: Could not find a version that satisfies the requirement struct (from versions: none)\n",
      "ERROR: No matching distribution found for struct\n",
      "WARNING: Ignoring invalid distribution -ywin32 (c:\\users\\hassan k. alkhalidi\\appdata\\local\\programs\\python\\python39\\lib\\site-packages)\n",
      "WARNING: Ignoring invalid distribution -ywin32 (c:\\users\\hassan k. alkhalidi\\appdata\\local\\programs\\python\\python39\\lib\\site-packages)\n",
      "WARNING: Ignoring invalid distribution -ywin32 (c:\\users\\hassan k. alkhalidi\\appdata\\local\\programs\\python\\python39\\lib\\site-packages)\n",
      "WARNING: Ignoring invalid distribution -ywin32 (c:\\users\\hassan k. alkhalidi\\appdata\\local\\programs\\python\\python39\\lib\\site-packages)\n",
      "ERROR: Could not find a version that satisfies the requirement time (from versions: none)\n",
      "ERROR: No matching distribution found for time\n",
      "WARNING: Ignoring invalid distribution -ywin32 (c:\\users\\hassan k. alkhalidi\\appdata\\local\\programs\\python\\python39\\lib\\site-packages)\n",
      "WARNING: Ignoring invalid distribution -ywin32 (c:\\users\\hassan k. alkhalidi\\appdata\\local\\programs\\python\\python39\\lib\\site-packages)\n",
      "WARNING: Ignoring invalid distribution -ywin32 (c:\\users\\hassan k. alkhalidi\\appdata\\local\\programs\\python\\python39\\lib\\site-packages)\n",
      "WARNING: Ignoring invalid distribution -ywin32 (c:\\users\\hassan k. alkhalidi\\appdata\\local\\programs\\python\\python39\\lib\\site-packages)\n",
      "ERROR: Could not find a version that satisfies the requirement socket (from versions: none)\n",
      "ERROR: No matching distribution found for socket\n",
      "WARNING: Ignoring invalid distribution -ywin32 (c:\\users\\hassan k. alkhalidi\\appdata\\local\\programs\\python\\python39\\lib\\site-packages)\n",
      "WARNING: Ignoring invalid distribution -ywin32 (c:\\users\\hassan k. alkhalidi\\appdata\\local\\programs\\python\\python39\\lib\\site-packages)\n"
     ]
    },
    {
     "name": "stdout",
     "output_type": "stream",
     "text": [
      "Requirement already satisfied: deepface in c:\\users\\hassan k. alkhalidi\\appdata\\local\\programs\\python\\python39\\lib\\site-packages (0.0.68)\n",
      "Requirement already satisfied: retina-face>=0.0.1 in c:\\users\\hassan k. alkhalidi\\appdata\\local\\programs\\python\\python39\\lib\\site-packages (from deepface) (0.0.5)\n",
      "Requirement already satisfied: tensorflow>=1.9.0 in c:\\users\\hassan k. alkhalidi\\appdata\\roaming\\python\\python39\\site-packages (from deepface) (2.7.0)\n",
      "Requirement already satisfied: Flask>=1.1.2 in c:\\users\\hassan k. alkhalidi\\appdata\\local\\programs\\python\\python39\\lib\\site-packages (from deepface) (2.0.2)\n",
      "Requirement already satisfied: Pillow>=5.2.0 in c:\\users\\hassan k. alkhalidi\\appdata\\local\\programs\\python\\python39\\lib\\site-packages (from deepface) (8.4.0)\n",
      "Requirement already satisfied: gdown>=3.10.1 in c:\\users\\hassan k. alkhalidi\\appdata\\local\\programs\\python\\python39\\lib\\site-packages (from deepface) (4.2.0)\n",
      "Requirement already satisfied: keras>=2.2.0 in c:\\users\\hassan k. alkhalidi\\appdata\\roaming\\python\\python39\\site-packages (from deepface) (2.7.0)\n",
      "Requirement already satisfied: pandas>=0.23.4 in c:\\users\\hassan k. alkhalidi\\appdata\\local\\programs\\python\\python39\\lib\\site-packages (from deepface) (1.3.4)\n",
      "Requirement already satisfied: opencv-python>=3.4.4 in c:\\users\\hassan k. alkhalidi\\appdata\\local\\programs\\python\\python39\\lib\\site-packages (from deepface) (4.5.4.58)\n",
      "Requirement already satisfied: numpy>=1.14.0 in c:\\users\\hassan k. alkhalidi\\appdata\\local\\programs\\python\\python39\\lib\\site-packages (from deepface) (1.21.4)\n",
      "Requirement already satisfied: tqdm>=4.30.0 in c:\\users\\hassan k. alkhalidi\\appdata\\local\\programs\\python\\python39\\lib\\site-packages (from deepface) (4.62.3)\n",
      "Requirement already satisfied: mtcnn>=0.1.0 in c:\\users\\hassan k. alkhalidi\\appdata\\local\\programs\\python\\python39\\lib\\site-packages (from deepface) (0.1.1)\n",
      "Requirement already satisfied: Jinja2>=3.0 in c:\\users\\hassan k. alkhalidi\\appdata\\local\\programs\\python\\python39\\lib\\site-packages (from Flask>=1.1.2->deepface) (3.0.3)\n",
      "Requirement already satisfied: click>=7.1.2 in c:\\users\\hassan k. alkhalidi\\appdata\\local\\programs\\python\\python39\\lib\\site-packages (from Flask>=1.1.2->deepface) (8.0.3)\n",
      "Requirement already satisfied: itsdangerous>=2.0 in c:\\users\\hassan k. alkhalidi\\appdata\\local\\programs\\python\\python39\\lib\\site-packages (from Flask>=1.1.2->deepface) (2.0.1)\n",
      "Requirement already satisfied: Werkzeug>=2.0 in c:\\users\\hassan k. alkhalidi\\appdata\\roaming\\python\\python39\\site-packages (from Flask>=1.1.2->deepface) (2.0.2)\n",
      "Requirement already satisfied: requests[socks] in c:\\users\\hassan k. alkhalidi\\appdata\\local\\programs\\python\\python39\\lib\\site-packages (from gdown>=3.10.1->deepface) (2.26.0)\n",
      "Requirement already satisfied: six in c:\\users\\hassan k. alkhalidi\\appdata\\local\\programs\\python\\python39\\lib\\site-packages (from gdown>=3.10.1->deepface) (1.16.0)\n",
      "Requirement already satisfied: beautifulsoup4 in c:\\users\\hassan k. alkhalidi\\appdata\\local\\programs\\python\\python39\\lib\\site-packages (from gdown>=3.10.1->deepface) (4.10.0)\n",
      "Requirement already satisfied: filelock in c:\\users\\hassan k. alkhalidi\\appdata\\local\\programs\\python\\python39\\lib\\site-packages (from gdown>=3.10.1->deepface) (3.3.2)\n",
      "Requirement already satisfied: pytz>=2017.3 in c:\\users\\hassan k. alkhalidi\\appdata\\local\\programs\\python\\python39\\lib\\site-packages (from pandas>=0.23.4->deepface) (2021.3)\n",
      "Requirement already satisfied: python-dateutil>=2.7.3 in c:\\users\\hassan k. alkhalidi\\appdata\\local\\programs\\python\\python39\\lib\\site-packages (from pandas>=0.23.4->deepface) (2.8.2)\n",
      "Requirement already satisfied: absl-py>=0.4.0 in c:\\users\\hassan k. alkhalidi\\appdata\\local\\programs\\python\\python39\\lib\\site-packages (from tensorflow>=1.9.0->deepface) (0.12.0)\n",
      "Requirement already satisfied: typing-extensions>=3.6.6 in c:\\users\\hassan k. alkhalidi\\appdata\\roaming\\python\\python39\\site-packages (from tensorflow>=1.9.0->deepface) (3.10.0.2)\n",
      "Requirement already satisfied: tensorboard~=2.6 in c:\\users\\hassan k. alkhalidi\\appdata\\roaming\\python\\python39\\site-packages (from tensorflow>=1.9.0->deepface) (2.7.0)\n",
      "Requirement already satisfied: keras-preprocessing>=1.1.1 in c:\\users\\hassan k. alkhalidi\\appdata\\roaming\\python\\python39\\site-packages (from tensorflow>=1.9.0->deepface) (1.1.2)\n",
      "Requirement already satisfied: google-pasta>=0.1.1 in c:\\users\\hassan k. alkhalidi\\appdata\\roaming\\python\\python39\\site-packages (from tensorflow>=1.9.0->deepface) (0.2.0)\n",
      "Requirement already satisfied: astunparse>=1.6.0 in c:\\users\\hassan k. alkhalidi\\appdata\\roaming\\python\\python39\\site-packages (from tensorflow>=1.9.0->deepface) (1.6.3)\n",
      "Requirement already satisfied: wheel<1.0,>=0.32.0 in c:\\users\\hassan k. alkhalidi\\appdata\\roaming\\python\\python39\\site-packages (from tensorflow>=1.9.0->deepface) (0.37.0)\n",
      "Requirement already satisfied: tensorflow-io-gcs-filesystem>=0.21.0 in c:\\users\\hassan k. alkhalidi\\appdata\\roaming\\python\\python39\\site-packages (from tensorflow>=1.9.0->deepface) (0.21.0)\n",
      "Requirement already satisfied: libclang>=9.0.1 in c:\\users\\hassan k. alkhalidi\\appdata\\roaming\\python\\python39\\site-packages (from tensorflow>=1.9.0->deepface) (12.0.0)\n",
      "Requirement already satisfied: protobuf>=3.9.2 in c:\\users\\hassan k. alkhalidi\\appdata\\roaming\\python\\python39\\site-packages (from tensorflow>=1.9.0->deepface) (3.19.1)\n",
      "Requirement already satisfied: tensorflow-estimator<2.8,~=2.7.0rc0 in c:\\users\\hassan k. alkhalidi\\appdata\\roaming\\python\\python39\\site-packages (from tensorflow>=1.9.0->deepface) (2.7.0)\n",
      "Requirement already satisfied: gast<0.5.0,>=0.2.1 in c:\\users\\hassan k. alkhalidi\\appdata\\roaming\\python\\python39\\site-packages (from tensorflow>=1.9.0->deepface) (0.4.0)\n",
      "Requirement already satisfied: flatbuffers<3.0,>=1.12 in c:\\users\\hassan k. alkhalidi\\appdata\\roaming\\python\\python39\\site-packages (from tensorflow>=1.9.0->deepface) (2.0)\n",
      "Requirement already satisfied: wrapt>=1.11.0 in c:\\users\\hassan k. alkhalidi\\appdata\\roaming\\python\\python39\\site-packages (from tensorflow>=1.9.0->deepface) (1.13.3)\n",
      "Requirement already satisfied: opt-einsum>=2.3.2 in c:\\users\\hassan k. alkhalidi\\appdata\\roaming\\python\\python39\\site-packages (from tensorflow>=1.9.0->deepface) (3.3.0)\n",
      "Requirement already satisfied: grpcio<2.0,>=1.24.3 in c:\\users\\hassan k. alkhalidi\\appdata\\roaming\\python\\python39\\site-packages (from tensorflow>=1.9.0->deepface) (1.41.1)\n",
      "Requirement already satisfied: termcolor>=1.1.0 in c:\\users\\hassan k. alkhalidi\\appdata\\roaming\\python\\python39\\site-packages (from tensorflow>=1.9.0->deepface) (1.1.0)\n",
      "Requirement already satisfied: h5py>=2.9.0 in c:\\users\\hassan k. alkhalidi\\appdata\\roaming\\python\\python39\\site-packages (from tensorflow>=1.9.0->deepface) (3.5.0)\n",
      "Requirement already satisfied: colorama in c:\\users\\hassan k. alkhalidi\\appdata\\local\\programs\\python\\python39\\lib\\site-packages (from tqdm>=4.30.0->deepface) (0.4.4)\n",
      "Requirement already satisfied: MarkupSafe>=2.0 in c:\\users\\hassan k. alkhalidi\\appdata\\local\\programs\\python\\python39\\lib\\site-packages (from Jinja2>=3.0->Flask>=1.1.2->deepface) (2.0.1)\n",
      "Requirement already satisfied: tensorboard-data-server<0.7.0,>=0.6.0 in c:\\users\\hassan k. alkhalidi\\appdata\\roaming\\python\\python39\\site-packages (from tensorboard~=2.6->tensorflow>=1.9.0->deepface) (0.6.1)\n",
      "Requirement already satisfied: markdown>=2.6.8 in c:\\users\\hassan k. alkhalidi\\appdata\\roaming\\python\\python39\\site-packages (from tensorboard~=2.6->tensorflow>=1.9.0->deepface) (3.3.4)\n",
      "Requirement already satisfied: setuptools>=41.0.0 in c:\\users\\hassan k. alkhalidi\\appdata\\local\\programs\\python\\python39\\lib\\site-packages (from tensorboard~=2.6->tensorflow>=1.9.0->deepface) (58.5.3)\n",
      "Requirement already satisfied: tensorboard-plugin-wit>=1.6.0 in c:\\users\\hassan k. alkhalidi\\appdata\\roaming\\python\\python39\\site-packages (from tensorboard~=2.6->tensorflow>=1.9.0->deepface) (1.8.0)\n",
      "Requirement already satisfied: google-auth<3,>=1.6.3 in c:\\users\\hassan k. alkhalidi\\appdata\\roaming\\python\\python39\\site-packages (from tensorboard~=2.6->tensorflow>=1.9.0->deepface) (2.3.3)\n",
      "Requirement already satisfied: google-auth-oauthlib<0.5,>=0.4.1 in c:\\users\\hassan k. alkhalidi\\appdata\\roaming\\python\\python39\\site-packages (from tensorboard~=2.6->tensorflow>=1.9.0->deepface) (0.4.6)\n",
      "Requirement already satisfied: soupsieve>1.2 in c:\\users\\hassan k. alkhalidi\\appdata\\local\\programs\\python\\python39\\lib\\site-packages (from beautifulsoup4->gdown>=3.10.1->deepface) (2.3.1)\n",
      "Requirement already satisfied: charset-normalizer~=2.0.0 in c:\\users\\hassan k. alkhalidi\\appdata\\local\\programs\\python\\python39\\lib\\site-packages (from requests[socks]->gdown>=3.10.1->deepface) (2.0.7)\n",
      "Requirement already satisfied: certifi>=2017.4.17 in c:\\users\\hassan k. alkhalidi\\appdata\\local\\programs\\python\\python39\\lib\\site-packages (from requests[socks]->gdown>=3.10.1->deepface) (2021.10.8)\n",
      "Requirement already satisfied: idna<4,>=2.5 in c:\\users\\hassan k. alkhalidi\\appdata\\local\\programs\\python\\python39\\lib\\site-packages (from requests[socks]->gdown>=3.10.1->deepface) (3.3)\n",
      "Requirement already satisfied: urllib3<1.27,>=1.21.1 in c:\\users\\hassan k. alkhalidi\\appdata\\local\\programs\\python\\python39\\lib\\site-packages (from requests[socks]->gdown>=3.10.1->deepface) (1.26.7)\n",
      "Requirement already satisfied: PySocks!=1.5.7,>=1.5.6 in c:\\users\\hassan k. alkhalidi\\appdata\\local\\programs\\python\\python39\\lib\\site-packages (from requests[socks]->gdown>=3.10.1->deepface) (1.7.1)\n",
      "Requirement already satisfied: rsa<5,>=3.1.4 in c:\\users\\hassan k. alkhalidi\\appdata\\roaming\\python\\python39\\site-packages (from google-auth<3,>=1.6.3->tensorboard~=2.6->tensorflow>=1.9.0->deepface) (4.7.2)\n",
      "Requirement already satisfied: pyasn1-modules>=0.2.1 in c:\\users\\hassan k. alkhalidi\\appdata\\roaming\\python\\python39\\site-packages (from google-auth<3,>=1.6.3->tensorboard~=2.6->tensorflow>=1.9.0->deepface) (0.2.8)\n",
      "Requirement already satisfied: cachetools<5.0,>=2.0.0 in c:\\users\\hassan k. alkhalidi\\appdata\\roaming\\python\\python39\\site-packages (from google-auth<3,>=1.6.3->tensorboard~=2.6->tensorflow>=1.9.0->deepface) (4.2.4)\n",
      "Requirement already satisfied: requests-oauthlib>=0.7.0 in c:\\users\\hassan k. alkhalidi\\appdata\\roaming\\python\\python39\\site-packages (from google-auth-oauthlib<0.5,>=0.4.1->tensorboard~=2.6->tensorflow>=1.9.0->deepface) (1.3.0)\n",
      "Requirement already satisfied: pyasn1<0.5.0,>=0.4.6 in c:\\users\\hassan k. alkhalidi\\appdata\\roaming\\python\\python39\\site-packages (from pyasn1-modules>=0.2.1->google-auth<3,>=1.6.3->tensorboard~=2.6->tensorflow>=1.9.0->deepface) (0.4.8)\n",
      "Requirement already satisfied: oauthlib>=3.0.0 in c:\\users\\hassan k. alkhalidi\\appdata\\roaming\\python\\python39\\site-packages (from requests-oauthlib>=0.7.0->google-auth-oauthlib<0.5,>=0.4.1->tensorboard~=2.6->tensorflow>=1.9.0->deepface) (3.1.1)\n"
     ]
    },
    {
     "name": "stderr",
     "output_type": "stream",
     "text": [
      "WARNING: Ignoring invalid distribution -ywin32 (c:\\users\\hassan k. alkhalidi\\appdata\\local\\programs\\python\\python39\\lib\\site-packages)\n",
      "WARNING: Ignoring invalid distribution -ywin32 (c:\\users\\hassan k. alkhalidi\\appdata\\local\\programs\\python\\python39\\lib\\site-packages)\n",
      "WARNING: Ignoring invalid distribution -ywin32 (c:\\users\\hassan k. alkhalidi\\appdata\\local\\programs\\python\\python39\\lib\\site-packages)\n",
      "WARNING: Ignoring invalid distribution -ywin32 (c:\\users\\hassan k. alkhalidi\\appdata\\local\\programs\\python\\python39\\lib\\site-packages)\n",
      "WARNING: Ignoring invalid distribution -ywin32 (c:\\users\\hassan k. alkhalidi\\appdata\\local\\programs\\python\\python39\\lib\\site-packages)\n",
      "WARNING: Ignoring invalid distribution -ywin32 (c:\\users\\hassan k. alkhalidi\\appdata\\local\\programs\\python\\python39\\lib\\site-packages)\n",
      "WARNING: Ignoring invalid distribution -ywin32 (c:\\users\\hassan k. alkhalidi\\appdata\\local\\programs\\python\\python39\\lib\\site-packages)\n",
      "ERROR: Could not find a version that satisfies the requirement matplotlib.pyplot (from versions: none)\n",
      "ERROR: No matching distribution found for matplotlib.pyplot\n",
      "WARNING: Ignoring invalid distribution -ywin32 (c:\\users\\hassan k. alkhalidi\\appdata\\local\\programs\\python\\python39\\lib\\site-packages)\n",
      "WARNING: Ignoring invalid distribution -ywin32 (c:\\users\\hassan k. alkhalidi\\appdata\\local\\programs\\python\\python39\\lib\\site-packages)\n"
     ]
    }
   ],
   "source": [
    "import sys\n",
    "\n",
    "!pip install json\n",
    "!pip install os\n",
    "!pip install requests\n",
    "!pip install cv2\n",
    "!pip install numpy\n",
    "!pip install customtkinter\n",
    "!pip install imutils\n",
    "!pip install pathlib\n",
    "!pip install threading\n",
    "!pip install pickle\n",
    "!pip install struct\n",
    "!pip install time\n",
    "!pip install socket\n",
    "!pip install deepface\n",
    "!pip install matplotlib.pyplot"
   ]
  }
 ],
 "metadata": {
  "interpreter": {
   "hash": "0d6dc552b64dde1bb280918c3eea6cde8684c46627de892e4b33cfd2405cbfd5"
  },
  "kernelspec": {
   "display_name": "Python 3.9.0 64-bit",
   "language": "python",
   "name": "python3"
  },
  "language_info": {
   "codemirror_mode": {
    "name": "ipython",
    "version": 3
   },
   "file_extension": ".py",
   "mimetype": "text/x-python",
   "name": "python",
   "nbconvert_exporter": "python",
   "pygments_lexer": "ipython3",
   "version": "3.9.0"
  },
  "orig_nbformat": 4
 },
 "nbformat": 4,
 "nbformat_minor": 2
}
